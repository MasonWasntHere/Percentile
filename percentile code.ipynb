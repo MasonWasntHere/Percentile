{
  "metadata": {
    "kernelspec": {
      "name": "xpython",
      "display_name": "Python 3.13 (XPython)",
      "language": "python"
    },
    "language_info": {
      "file_extension": ".py",
      "mimetype": "text/x-python",
      "name": "python",
      "version": "3.13.1"
    }
  },
  "nbformat_minor": 5,
  "nbformat": 4,
  "cells": [
    {
      "id": "7d440885-4184-43a7-8eac-c37e86de2210",
      "cell_type": "code",
      "source": "import numpy as np\n\nheights_array = np.loadtxt(\"SOCR-HeightWeight.csv\", delimiter=\",\", dtype=str)\n\ndata = heights_array[1:].astype(float)  # convert data into float\n\n# extract heights and weights columns\nheights = data[:, 1]  # height\nweights = data[:, 2]  # weight\n\ndef mode_np(arr):\n    rounded = np.round(arr, 2)  # round to 2 decimals\n    values, counts = np.unique(rounded, return_counts=True)\n    max_count_index = np.argmax(counts)\n    return values[max_count_index]\n\ndef height_percentile(height, height_data):\n    count_shorter = np.sum(height_data < height)\n    percentile = (count_shorter / len(height_data)) * 100\n    return percentile\n\nuser_height = float(input(\"Enter your height in inches: \"))\npercentile = height_percentile(user_height, heights)\nprint(f\"You are in the {percentile:.2f} percentile.\")\n",
      "metadata": {
        "trusted": true
      },
      "outputs": [
        {
          "output_type": "stream",
          "name": "stdin",
          "text": "Enter your height in inches:  68.875\n"
        },
        {
          "name": "stdout",
          "output_type": "stream",
          "text": "You are in the 67.85 percentile.\n"
        }
      ],
      "execution_count": 14
    }
  ]
}